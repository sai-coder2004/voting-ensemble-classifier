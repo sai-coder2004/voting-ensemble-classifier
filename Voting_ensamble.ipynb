{
 "cells": [
  {
   "cell_type": "markdown",
   "id": "4da4564a-3b17-4651-871c-a40c3da21b9c",
   "metadata": {},
   "source": [
    "Ensemble learning = combining multiple models to make a single model with accuracy greater than the accuracy of each of the model used in ensemble learning."
   ]
  },
  {
   "cell_type": "markdown",
   "id": "925c91f9-3ab4-4280-a57a-918a9f0f4f0a",
   "metadata": {},
   "source": [
    "Voting ensemble = the base models can be different or same, all models train with same data set independently."
   ]
  },
  {
   "cell_type": "markdown",
   "id": "ce2683f3-dcc2-46f1-a5b9-86e6685b2daa",
   "metadata": {},
   "source": [
    "If we built a classification voting ensemble, the output would be the mode of the set of outputs produced by each of the base models.\n",
    "If we built a regression voting ensemble, the output would be the mean of the set of outputs produced by each of the base models.\n",
    "\n"
   ]
  },
  {
   "cell_type": "markdown",
   "id": "00c97b0e-339a-4754-ad1d-7f6e045fbc71",
   "metadata": {},
   "source": [
    "The assumptions of the base models in ensemble learning were\n",
    "1) All models should be independent.\n",
    "2) Accuracy of each model should be greater or equal to 50%"
   ]
  },
  {
   "cell_type": "markdown",
   "id": "8b5c0d63-f4d8-4548-a0ce-b02a45aad43f",
   "metadata": {},
   "source": [
    "How multiple models combine to give greater accuracy than each of the base model ?"
   ]
  },
  {
   "cell_type": "markdown",
   "id": "fdbfe0da-6e10-4a27-9ec6-e96ea9ed5f9b",
   "metadata": {},
   "source": [
    "Let's assume we have 3 base models, each with an accuracy of 0.7. I made a voting ensemble.\n",
    "Now, think in terms of conditional probabilities,\n",
    "let m1, m2, m3 be 3 models\n",
    "\n",
    "P(m1 and m2 and m3) = 0.7*0.7*0.7 = 0.343\n",
    "p(m1 and m2 and m3') = 0.7*0.7*0.3 = 0.147\n",
    "p(m1 and m2' and m3) = 0.7*0.3*0.7 = 0.147\n",
    "p(m1 and m2' and m3') = 0.7*0.3*0.3 = 0.063\n",
    "p(m1' and m2 and m3) = 0.3*0.7*0.7 = 0.147\n",
    "p(m1' and m2 and m3') = 0.3*0.7*0.3 = 0.063\n",
    "p(m1' and m2' and m3) = 0.3*0.3*0.7 = 0.063\n",
    "p(m1' and m2' and m3') = 0.3*0.3*0.3 = 0.27\n",
    "\n",
    "The final output is decided based on the majority of outputs. To get a majority, at least 2 models should be correct\n",
    "P(m1 and m2 and m3) = 0.7*0.7*0.7 = 0.343\n",
    "p(m1 and m2 and m3') = 0.7*0.7*0.3 = 0.147\n",
    "p(m1 and m2' and m3) = 0.7*0.3*0.7 = 0.147\n",
    "p(m1' and m2 and m3) = 0.3*0.7*0.7 = 0.147\n",
    "\n",
    "0.343+0.147+0.147+0.147 = 0.784 = 78.4% \n",
    "\n",
    "Intially we have 70% now we achieved 78.4% using voting ensemble."
   ]
  },
  {
   "cell_type": "markdown",
   "id": "6e122616-7ea7-4d3a-b401-fc98930e658a",
   "metadata": {},
   "source": [
    "Now we see a code demo."
   ]
  },
  {
   "cell_type": "code",
   "execution_count": 1,
   "id": "2b7fb5d6-5cee-4ac3-9192-2ae61ea5a522",
   "metadata": {},
   "outputs": [],
   "source": [
    "import pandas as pd\n",
    "import numpy as np\n",
    "from sklearn import datasets\n",
    "iris = datasets.load_iris()"
   ]
  },
  {
   "cell_type": "code",
   "execution_count": 5,
   "id": "e4693af5-88d0-4e2c-b003-304bb8999a3c",
   "metadata": {},
   "outputs": [
    {
     "data": {
      "text/plain": [
       "['sepal length (cm)',\n",
       " 'sepal width (cm)',\n",
       " 'petal length (cm)',\n",
       " 'petal width (cm)']"
      ]
     },
     "execution_count": 5,
     "metadata": {},
     "output_type": "execute_result"
    }
   ],
   "source": [
    "iris.feature_names"
   ]
  },
  {
   "cell_type": "code",
   "execution_count": 6,
   "id": "7220ae8d-4241-4c57-bcc4-4acee3c593c6",
   "metadata": {},
   "outputs": [
    {
     "data": {
      "text/plain": [
       "array([0, 0, 0, 0, 0, 0, 0, 0, 0, 0, 0, 0, 0, 0, 0, 0, 0, 0, 0, 0, 0, 0,\n",
       "       0, 0, 0, 0, 0, 0, 0, 0, 0, 0, 0, 0, 0, 0, 0, 0, 0, 0, 0, 0, 0, 0,\n",
       "       0, 0, 0, 0, 0, 0, 1, 1, 1, 1, 1, 1, 1, 1, 1, 1, 1, 1, 1, 1, 1, 1,\n",
       "       1, 1, 1, 1, 1, 1, 1, 1, 1, 1, 1, 1, 1, 1, 1, 1, 1, 1, 1, 1, 1, 1,\n",
       "       1, 1, 1, 1, 1, 1, 1, 1, 1, 1, 1, 1, 2, 2, 2, 2, 2, 2, 2, 2, 2, 2,\n",
       "       2, 2, 2, 2, 2, 2, 2, 2, 2, 2, 2, 2, 2, 2, 2, 2, 2, 2, 2, 2, 2, 2,\n",
       "       2, 2, 2, 2, 2, 2, 2, 2, 2, 2, 2, 2, 2, 2, 2, 2, 2, 2])"
      ]
     },
     "execution_count": 6,
     "metadata": {},
     "output_type": "execute_result"
    }
   ],
   "source": [
    "iris.target"
   ]
  },
  {
   "cell_type": "code",
   "execution_count": 8,
   "id": "5c7487cf-af62-4b9a-ac76-ea29c536b8be",
   "metadata": {},
   "outputs": [
    {
     "data": {
      "text/plain": [
       "array([[5.1, 3.5, 1.4, 0.2],\n",
       "       [4.9, 3. , 1.4, 0.2],\n",
       "       [4.7, 3.2, 1.3, 0.2],\n",
       "       [4.6, 3.1, 1.5, 0.2],\n",
       "       [5. , 3.6, 1.4, 0.2],\n",
       "       [5.4, 3.9, 1.7, 0.4],\n",
       "       [4.6, 3.4, 1.4, 0.3],\n",
       "       [5. , 3.4, 1.5, 0.2],\n",
       "       [4.4, 2.9, 1.4, 0.2],\n",
       "       [4.9, 3.1, 1.5, 0.1],\n",
       "       [5.4, 3.7, 1.5, 0.2],\n",
       "       [4.8, 3.4, 1.6, 0.2],\n",
       "       [4.8, 3. , 1.4, 0.1],\n",
       "       [4.3, 3. , 1.1, 0.1],\n",
       "       [5.8, 4. , 1.2, 0.2],\n",
       "       [5.7, 4.4, 1.5, 0.4],\n",
       "       [5.4, 3.9, 1.3, 0.4],\n",
       "       [5.1, 3.5, 1.4, 0.3],\n",
       "       [5.7, 3.8, 1.7, 0.3],\n",
       "       [5.1, 3.8, 1.5, 0.3],\n",
       "       [5.4, 3.4, 1.7, 0.2],\n",
       "       [5.1, 3.7, 1.5, 0.4],\n",
       "       [4.6, 3.6, 1. , 0.2],\n",
       "       [5.1, 3.3, 1.7, 0.5],\n",
       "       [4.8, 3.4, 1.9, 0.2],\n",
       "       [5. , 3. , 1.6, 0.2],\n",
       "       [5. , 3.4, 1.6, 0.4],\n",
       "       [5.2, 3.5, 1.5, 0.2],\n",
       "       [5.2, 3.4, 1.4, 0.2],\n",
       "       [4.7, 3.2, 1.6, 0.2],\n",
       "       [4.8, 3.1, 1.6, 0.2],\n",
       "       [5.4, 3.4, 1.5, 0.4],\n",
       "       [5.2, 4.1, 1.5, 0.1],\n",
       "       [5.5, 4.2, 1.4, 0.2],\n",
       "       [4.9, 3.1, 1.5, 0.2],\n",
       "       [5. , 3.2, 1.2, 0.2],\n",
       "       [5.5, 3.5, 1.3, 0.2],\n",
       "       [4.9, 3.6, 1.4, 0.1],\n",
       "       [4.4, 3. , 1.3, 0.2],\n",
       "       [5.1, 3.4, 1.5, 0.2],\n",
       "       [5. , 3.5, 1.3, 0.3],\n",
       "       [4.5, 2.3, 1.3, 0.3],\n",
       "       [4.4, 3.2, 1.3, 0.2],\n",
       "       [5. , 3.5, 1.6, 0.6],\n",
       "       [5.1, 3.8, 1.9, 0.4],\n",
       "       [4.8, 3. , 1.4, 0.3],\n",
       "       [5.1, 3.8, 1.6, 0.2],\n",
       "       [4.6, 3.2, 1.4, 0.2],\n",
       "       [5.3, 3.7, 1.5, 0.2],\n",
       "       [5. , 3.3, 1.4, 0.2],\n",
       "       [7. , 3.2, 4.7, 1.4],\n",
       "       [6.4, 3.2, 4.5, 1.5],\n",
       "       [6.9, 3.1, 4.9, 1.5],\n",
       "       [5.5, 2.3, 4. , 1.3],\n",
       "       [6.5, 2.8, 4.6, 1.5],\n",
       "       [5.7, 2.8, 4.5, 1.3],\n",
       "       [6.3, 3.3, 4.7, 1.6],\n",
       "       [4.9, 2.4, 3.3, 1. ],\n",
       "       [6.6, 2.9, 4.6, 1.3],\n",
       "       [5.2, 2.7, 3.9, 1.4],\n",
       "       [5. , 2. , 3.5, 1. ],\n",
       "       [5.9, 3. , 4.2, 1.5],\n",
       "       [6. , 2.2, 4. , 1. ],\n",
       "       [6.1, 2.9, 4.7, 1.4],\n",
       "       [5.6, 2.9, 3.6, 1.3],\n",
       "       [6.7, 3.1, 4.4, 1.4],\n",
       "       [5.6, 3. , 4.5, 1.5],\n",
       "       [5.8, 2.7, 4.1, 1. ],\n",
       "       [6.2, 2.2, 4.5, 1.5],\n",
       "       [5.6, 2.5, 3.9, 1.1],\n",
       "       [5.9, 3.2, 4.8, 1.8],\n",
       "       [6.1, 2.8, 4. , 1.3],\n",
       "       [6.3, 2.5, 4.9, 1.5],\n",
       "       [6.1, 2.8, 4.7, 1.2],\n",
       "       [6.4, 2.9, 4.3, 1.3],\n",
       "       [6.6, 3. , 4.4, 1.4],\n",
       "       [6.8, 2.8, 4.8, 1.4],\n",
       "       [6.7, 3. , 5. , 1.7],\n",
       "       [6. , 2.9, 4.5, 1.5],\n",
       "       [5.7, 2.6, 3.5, 1. ],\n",
       "       [5.5, 2.4, 3.8, 1.1],\n",
       "       [5.5, 2.4, 3.7, 1. ],\n",
       "       [5.8, 2.7, 3.9, 1.2],\n",
       "       [6. , 2.7, 5.1, 1.6],\n",
       "       [5.4, 3. , 4.5, 1.5],\n",
       "       [6. , 3.4, 4.5, 1.6],\n",
       "       [6.7, 3.1, 4.7, 1.5],\n",
       "       [6.3, 2.3, 4.4, 1.3],\n",
       "       [5.6, 3. , 4.1, 1.3],\n",
       "       [5.5, 2.5, 4. , 1.3],\n",
       "       [5.5, 2.6, 4.4, 1.2],\n",
       "       [6.1, 3. , 4.6, 1.4],\n",
       "       [5.8, 2.6, 4. , 1.2],\n",
       "       [5. , 2.3, 3.3, 1. ],\n",
       "       [5.6, 2.7, 4.2, 1.3],\n",
       "       [5.7, 3. , 4.2, 1.2],\n",
       "       [5.7, 2.9, 4.2, 1.3],\n",
       "       [6.2, 2.9, 4.3, 1.3],\n",
       "       [5.1, 2.5, 3. , 1.1],\n",
       "       [5.7, 2.8, 4.1, 1.3],\n",
       "       [6.3, 3.3, 6. , 2.5],\n",
       "       [5.8, 2.7, 5.1, 1.9],\n",
       "       [7.1, 3. , 5.9, 2.1],\n",
       "       [6.3, 2.9, 5.6, 1.8],\n",
       "       [6.5, 3. , 5.8, 2.2],\n",
       "       [7.6, 3. , 6.6, 2.1],\n",
       "       [4.9, 2.5, 4.5, 1.7],\n",
       "       [7.3, 2.9, 6.3, 1.8],\n",
       "       [6.7, 2.5, 5.8, 1.8],\n",
       "       [7.2, 3.6, 6.1, 2.5],\n",
       "       [6.5, 3.2, 5.1, 2. ],\n",
       "       [6.4, 2.7, 5.3, 1.9],\n",
       "       [6.8, 3. , 5.5, 2.1],\n",
       "       [5.7, 2.5, 5. , 2. ],\n",
       "       [5.8, 2.8, 5.1, 2.4],\n",
       "       [6.4, 3.2, 5.3, 2.3],\n",
       "       [6.5, 3. , 5.5, 1.8],\n",
       "       [7.7, 3.8, 6.7, 2.2],\n",
       "       [7.7, 2.6, 6.9, 2.3],\n",
       "       [6. , 2.2, 5. , 1.5],\n",
       "       [6.9, 3.2, 5.7, 2.3],\n",
       "       [5.6, 2.8, 4.9, 2. ],\n",
       "       [7.7, 2.8, 6.7, 2. ],\n",
       "       [6.3, 2.7, 4.9, 1.8],\n",
       "       [6.7, 3.3, 5.7, 2.1],\n",
       "       [7.2, 3.2, 6. , 1.8],\n",
       "       [6.2, 2.8, 4.8, 1.8],\n",
       "       [6.1, 3. , 4.9, 1.8],\n",
       "       [6.4, 2.8, 5.6, 2.1],\n",
       "       [7.2, 3. , 5.8, 1.6],\n",
       "       [7.4, 2.8, 6.1, 1.9],\n",
       "       [7.9, 3.8, 6.4, 2. ],\n",
       "       [6.4, 2.8, 5.6, 2.2],\n",
       "       [6.3, 2.8, 5.1, 1.5],\n",
       "       [6.1, 2.6, 5.6, 1.4],\n",
       "       [7.7, 3. , 6.1, 2.3],\n",
       "       [6.3, 3.4, 5.6, 2.4],\n",
       "       [6.4, 3.1, 5.5, 1.8],\n",
       "       [6. , 3. , 4.8, 1.8],\n",
       "       [6.9, 3.1, 5.4, 2.1],\n",
       "       [6.7, 3.1, 5.6, 2.4],\n",
       "       [6.9, 3.1, 5.1, 2.3],\n",
       "       [5.8, 2.7, 5.1, 1.9],\n",
       "       [6.8, 3.2, 5.9, 2.3],\n",
       "       [6.7, 3.3, 5.7, 2.5],\n",
       "       [6.7, 3. , 5.2, 2.3],\n",
       "       [6.3, 2.5, 5. , 1.9],\n",
       "       [6.5, 3. , 5.2, 2. ],\n",
       "       [6.2, 3.4, 5.4, 2.3],\n",
       "       [5.9, 3. , 5.1, 1.8]])"
      ]
     },
     "execution_count": 8,
     "metadata": {},
     "output_type": "execute_result"
    }
   ],
   "source": [
    "iris.data"
   ]
  },
  {
   "cell_type": "code",
   "execution_count": 9,
   "id": "46a21012-fa1e-4c35-b80f-bc51f07cac67",
   "metadata": {},
   "outputs": [],
   "source": [
    "X=pd.DataFrame(iris.data,columns=iris.feature_names)"
   ]
  },
  {
   "cell_type": "code",
   "execution_count": 10,
   "id": "7d2224b7-c4d4-4eeb-a5a4-42d5c7e9e6b3",
   "metadata": {},
   "outputs": [
    {
     "data": {
      "text/html": [
       "<div>\n",
       "<style scoped>\n",
       "    .dataframe tbody tr th:only-of-type {\n",
       "        vertical-align: middle;\n",
       "    }\n",
       "\n",
       "    .dataframe tbody tr th {\n",
       "        vertical-align: top;\n",
       "    }\n",
       "\n",
       "    .dataframe thead th {\n",
       "        text-align: right;\n",
       "    }\n",
       "</style>\n",
       "<table border=\"1\" class=\"dataframe\">\n",
       "  <thead>\n",
       "    <tr style=\"text-align: right;\">\n",
       "      <th></th>\n",
       "      <th>sepal length (cm)</th>\n",
       "      <th>sepal width (cm)</th>\n",
       "      <th>petal length (cm)</th>\n",
       "      <th>petal width (cm)</th>\n",
       "    </tr>\n",
       "  </thead>\n",
       "  <tbody>\n",
       "    <tr>\n",
       "      <th>0</th>\n",
       "      <td>5.1</td>\n",
       "      <td>3.5</td>\n",
       "      <td>1.4</td>\n",
       "      <td>0.2</td>\n",
       "    </tr>\n",
       "    <tr>\n",
       "      <th>1</th>\n",
       "      <td>4.9</td>\n",
       "      <td>3.0</td>\n",
       "      <td>1.4</td>\n",
       "      <td>0.2</td>\n",
       "    </tr>\n",
       "    <tr>\n",
       "      <th>2</th>\n",
       "      <td>4.7</td>\n",
       "      <td>3.2</td>\n",
       "      <td>1.3</td>\n",
       "      <td>0.2</td>\n",
       "    </tr>\n",
       "    <tr>\n",
       "      <th>3</th>\n",
       "      <td>4.6</td>\n",
       "      <td>3.1</td>\n",
       "      <td>1.5</td>\n",
       "      <td>0.2</td>\n",
       "    </tr>\n",
       "    <tr>\n",
       "      <th>4</th>\n",
       "      <td>5.0</td>\n",
       "      <td>3.6</td>\n",
       "      <td>1.4</td>\n",
       "      <td>0.2</td>\n",
       "    </tr>\n",
       "  </tbody>\n",
       "</table>\n",
       "</div>"
      ],
      "text/plain": [
       "   sepal length (cm)  sepal width (cm)  petal length (cm)  petal width (cm)\n",
       "0                5.1               3.5                1.4               0.2\n",
       "1                4.9               3.0                1.4               0.2\n",
       "2                4.7               3.2                1.3               0.2\n",
       "3                4.6               3.1                1.5               0.2\n",
       "4                5.0               3.6                1.4               0.2"
      ]
     },
     "execution_count": 10,
     "metadata": {},
     "output_type": "execute_result"
    }
   ],
   "source": [
    "X.head()"
   ]
  },
  {
   "cell_type": "code",
   "execution_count": 29,
   "id": "f1ca6f48-7946-4a78-b88c-ff785e41496b",
   "metadata": {},
   "outputs": [],
   "source": [
    "y=pd.DataFrame(iris.target,columns=['Species'])"
   ]
  },
  {
   "cell_type": "code",
   "execution_count": 30,
   "id": "c0e7fd1c-f1e4-4460-b744-bbdc684dcf3e",
   "metadata": {},
   "outputs": [
    {
     "data": {
      "text/html": [
       "<div>\n",
       "<style scoped>\n",
       "    .dataframe tbody tr th:only-of-type {\n",
       "        vertical-align: middle;\n",
       "    }\n",
       "\n",
       "    .dataframe tbody tr th {\n",
       "        vertical-align: top;\n",
       "    }\n",
       "\n",
       "    .dataframe thead th {\n",
       "        text-align: right;\n",
       "    }\n",
       "</style>\n",
       "<table border=\"1\" class=\"dataframe\">\n",
       "  <thead>\n",
       "    <tr style=\"text-align: right;\">\n",
       "      <th></th>\n",
       "      <th>Species</th>\n",
       "    </tr>\n",
       "  </thead>\n",
       "  <tbody>\n",
       "    <tr>\n",
       "      <th>0</th>\n",
       "      <td>0</td>\n",
       "    </tr>\n",
       "    <tr>\n",
       "      <th>1</th>\n",
       "      <td>0</td>\n",
       "    </tr>\n",
       "    <tr>\n",
       "      <th>2</th>\n",
       "      <td>0</td>\n",
       "    </tr>\n",
       "    <tr>\n",
       "      <th>3</th>\n",
       "      <td>0</td>\n",
       "    </tr>\n",
       "    <tr>\n",
       "      <th>4</th>\n",
       "      <td>0</td>\n",
       "    </tr>\n",
       "  </tbody>\n",
       "</table>\n",
       "</div>"
      ],
      "text/plain": [
       "   Species\n",
       "0        0\n",
       "1        0\n",
       "2        0\n",
       "3        0\n",
       "4        0"
      ]
     },
     "execution_count": 30,
     "metadata": {},
     "output_type": "execute_result"
    }
   ],
   "source": [
    "y.head()"
   ]
  },
  {
   "cell_type": "code",
   "execution_count": 31,
   "id": "63cce719-4b3b-4f74-b1ae-855c4b866f4e",
   "metadata": {},
   "outputs": [],
   "source": [
    "from sklearn.linear_model import LogisticRegression\n",
    "from sklearn.neighbors import KNeighborsClassifier\n",
    "from sklearn.ensemble import RandomForestClassifier\n",
    "from sklearn.model_selection import cross_val_score"
   ]
  },
  {
   "cell_type": "code",
   "execution_count": 32,
   "id": "dd2df920-28bc-485a-90fb-21e585636181",
   "metadata": {},
   "outputs": [],
   "source": [
    "clf1=LogisticRegression(max_iter=1000)\n",
    "clf2=KNeighborsClassifier()\n",
    "clf3=RandomForestClassifier()"
   ]
  },
  {
   "cell_type": "code",
   "execution_count": 33,
   "id": "51bf0cda-b83d-4f24-b4f6-b155903e52f5",
   "metadata": {},
   "outputs": [],
   "source": [
    "estimators=[('lr',clf1),('knn',clf2),('rnn',clf3)]"
   ]
  },
  {
   "cell_type": "code",
   "execution_count": 34,
   "id": "67e3d1b3-6c11-44bd-92db-8d00de0bc284",
   "metadata": {},
   "outputs": [
    {
     "name": "stdout",
     "output_type": "stream",
     "text": [
      "LR 0.96\n",
      "KNN 0.95\n",
      "DT 0.95\n"
     ]
    }
   ],
   "source": [
    "from sklearn.preprocessing import StandardScaler\n",
    "scaler = StandardScaler()\n",
    "X = scaler.fit_transform(X)\n",
    "y = y.values.ravel()\n",
    "estimators = [\n",
    "    ('LR', clf1),\n",
    "    ('KNN', clf2),\n",
    "    ('DT', clf3)\n",
    "]\n",
    "for i in estimators:\n",
    "    scores = cross_val_score(i[1], X, y, cv=10, scoring='accuracy')\n",
    "    print(i[0], np.round(np.mean(scores), 2))\n"
   ]
  },
  {
   "cell_type": "code",
   "execution_count": 35,
   "id": "101eb740-48f0-4614-bf9a-5ed0f0bca7e3",
   "metadata": {},
   "outputs": [],
   "source": [
    "from sklearn.ensemble import VotingClassifier"
   ]
  },
  {
   "cell_type": "markdown",
   "id": "0118e7cc-bbac-47cb-a8ae-658b833437d3",
   "metadata": {},
   "source": [
    "HARD VOTING"
   ]
  },
  {
   "cell_type": "code",
   "execution_count": 36,
   "id": "419c7058-f32a-4540-9fe9-46a503d48514",
   "metadata": {},
   "outputs": [
    {
     "name": "stdout",
     "output_type": "stream",
     "text": [
      "0.96\n"
     ]
    }
   ],
   "source": [
    "vc=VotingClassifier(estimators=estimators)\n",
    "x=cross_val_score(vc,X,y,cv=10,scoring='accuracy')\n",
    "print(np.round(np.mean(x),2))"
   ]
  },
  {
   "cell_type": "markdown",
   "id": "0eacc587-6b51-4c7f-8cf8-3ed03514eae4",
   "metadata": {},
   "source": [
    "SOFT VOTING"
   ]
  },
  {
   "cell_type": "code",
   "execution_count": 37,
   "id": "973dd836-4c1a-47cd-a744-34610e64f643",
   "metadata": {},
   "outputs": [
    {
     "name": "stdout",
     "output_type": "stream",
     "text": [
      "0.96\n"
     ]
    }
   ],
   "source": [
    "vc=VotingClassifier(estimators=estimators,voting='soft')\n",
    "x=cross_val_score(vc,X,y,cv=10,scoring='accuracy')\n",
    "print(np.round(np.mean(x),2))"
   ]
  },
  {
   "cell_type": "markdown",
   "id": "deace538-178b-4682-b19f-77ddb6d38264",
   "metadata": {},
   "source": [
    "WEIGHTED VOTING"
   ]
  },
  {
   "cell_type": "code",
   "execution_count": 38,
   "id": "826f3248-5843-4d70-8a02-f33896b463a8",
   "metadata": {},
   "outputs": [
    {
     "name": "stdout",
     "output_type": "stream",
     "text": [
      "for i=1,j=1,k=1 0.96\n",
      "for i=1,j=1,k=2 0.96\n",
      "for i=1,j=1,k=3 0.96\n",
      "for i=1,j=2,k=1 0.95\n",
      "for i=1,j=2,k=2 0.95\n",
      "for i=1,j=2,k=3 0.96\n",
      "for i=1,j=3,k=1 0.95\n",
      "for i=1,j=3,k=2 0.96\n",
      "for i=1,j=3,k=3 0.96\n",
      "for i=2,j=1,k=1 0.96\n",
      "for i=2,j=1,k=2 0.96\n",
      "for i=2,j=1,k=3 0.96\n",
      "for i=2,j=2,k=1 0.96\n",
      "for i=2,j=2,k=2 0.95\n",
      "for i=2,j=2,k=3 0.96\n",
      "for i=2,j=3,k=1 0.95\n",
      "for i=2,j=3,k=2 0.96\n",
      "for i=2,j=3,k=3 0.95\n",
      "for i=3,j=1,k=1 0.96\n",
      "for i=3,j=1,k=2 0.96\n",
      "for i=3,j=1,k=3 0.96\n",
      "for i=3,j=2,k=1 0.96\n",
      "for i=3,j=2,k=2 0.96\n",
      "for i=3,j=2,k=3 0.96\n",
      "for i=3,j=3,k=1 0.96\n",
      "for i=3,j=3,k=2 0.96\n",
      "for i=3,j=3,k=3 0.95\n"
     ]
    }
   ],
   "source": [
    "for i in range(1,4):\n",
    "    for j in range(1,4):\n",
    "        for k in range(1,4):\n",
    "            vc=VotingClassifier(estimators=estimators,voting='soft',weights=[i,j,k])\n",
    "            x=cross_val_score(vc,X,y,cv=10,scoring='accuracy')\n",
    "            print(\"for i={},j={},k={}\".format(i,j,k),np.round(np.mean(x),2))\n",
    "            "
   ]
  },
  {
   "cell_type": "markdown",
   "id": "b443e02c-9025-403b-b5c6-f95c2be6d637",
   "metadata": {},
   "source": [
    "The maximum accuracy we are getting was 96%"
   ]
  },
  {
   "cell_type": "markdown",
   "id": "f78a3e76-fd89-4523-9c5d-fde44193df55",
   "metadata": {},
   "source": [
    "We can use same base models instead of different models"
   ]
  },
  {
   "cell_type": "markdown",
   "id": "46949dfe-5be2-4dd2-8776-2cd1de6e8a86",
   "metadata": {},
   "source": [
    "Classifiers of same algo"
   ]
  },
  {
   "cell_type": "code",
   "execution_count": 40,
   "id": "425d2865-9872-4f3e-8494-dd8272fb5f54",
   "metadata": {},
   "outputs": [],
   "source": [
    "from sklearn.svm import SVC\n",
    "from sklearn.datasets import make_classification"
   ]
  },
  {
   "cell_type": "code",
   "execution_count": 41,
   "id": "33f79e76-18cd-49ba-8c68-fd67b67fdc7c",
   "metadata": {},
   "outputs": [],
   "source": [
    "X,y=make_classification(n_samples=1000,n_features=20,n_informative=15,n_redundant=5,random_state=2)"
   ]
  },
  {
   "cell_type": "code",
   "execution_count": 44,
   "id": "f850d03b-5a10-403e-88db-57b000de6672",
   "metadata": {},
   "outputs": [],
   "source": [
    "svm1=SVC(probability=True,kernel='poly',degree=1)\n",
    "svm2=SVC(probability=True,kernel='poly',degree=2)\n",
    "svm3=SVC(probability=True,kernel='poly',degree=3)\n",
    "svm4=SVC(probability=True,kernel='poly',degree=4)\n",
    "svm5=SVC(probability=True,kernel='poly',degree=5)"
   ]
  },
  {
   "cell_type": "code",
   "execution_count": 45,
   "id": "85917a22-0e00-4c92-afaf-6e9e0d49b498",
   "metadata": {},
   "outputs": [],
   "source": [
    "estimators=[('svm1',svm1),('svm2',svm2),('svm3',svm3),('svm4',svm4),('svm5',svm5)]"
   ]
  },
  {
   "cell_type": "code",
   "execution_count": 46,
   "id": "23261519-52d7-4b48-ab30-26e7c4c28ee6",
   "metadata": {},
   "outputs": [
    {
     "name": "stdout",
     "output_type": "stream",
     "text": [
      "svm1 0.85\n",
      "svm2 0.85\n",
      "svm3 0.89\n",
      "svm4 0.81\n",
      "svm5 0.86\n"
     ]
    }
   ],
   "source": [
    "for i in estimators:\n",
    "    scores = cross_val_score(i[1], X, y, cv=10, scoring='accuracy')\n",
    "    print(i[0], np.round(np.mean(scores), 2))"
   ]
  },
  {
   "cell_type": "markdown",
   "id": "6f52a987-c392-4427-8a98-6869e85cfe70",
   "metadata": {},
   "source": [
    "Here we are getting maximun accuracy 89% lets see what happen if we use all this 5 as base models in voting ensemble"
   ]
  },
  {
   "cell_type": "code",
   "execution_count": 49,
   "id": "46fa1c01-6772-4960-87d9-18ed60e9bec4",
   "metadata": {},
   "outputs": [
    {
     "name": "stdout",
     "output_type": "stream",
     "text": [
      "0.93\n"
     ]
    }
   ],
   "source": [
    "vc1=VotingClassifier(estimators=estimators,voting='soft')\n",
    "x=cross_val_score(vc1,X,y,cv=10,scoring='accuracy')\n",
    "print(np.round(np.mean(x),2))"
   ]
  },
  {
   "cell_type": "markdown",
   "id": "578c1d2d-592b-4639-9f9a-9e32efb702bf",
   "metadata": {},
   "source": [
    "We are getting 93% "
   ]
  },
  {
   "cell_type": "code",
   "execution_count": 50,
   "id": "2ffad2d9-ea53-46ee-9e3a-289f86497ed5",
   "metadata": {},
   "outputs": [
    {
     "name": "stdout",
     "output_type": "stream",
     "text": [
      "0.91\n"
     ]
    }
   ],
   "source": [
    "vc1=VotingClassifier(estimators=estimators,voting='hard')\n",
    "x=cross_val_score(vc1,X,y,cv=10,scoring='accuracy')\n",
    "print(np.round(np.mean(x),2))"
   ]
  },
  {
   "cell_type": "code",
   "execution_count": 52,
   "id": "e3fe9efb-d1db-4041-84b8-91713d0c956d",
   "metadata": {},
   "outputs": [
    {
     "name": "stdout",
     "output_type": "stream",
     "text": [
      "for i=1,j=1,k=1,p=1,q=1 0.93\n",
      "for i=1,j=1,k=1,p=1,q=2 0.92\n",
      "for i=1,j=1,k=1,p=1,q=3 0.92\n",
      "for i=1,j=1,k=1,p=2,q=1 0.93\n",
      "for i=1,j=1,k=1,p=2,q=2 0.93\n",
      "for i=1,j=1,k=1,p=2,q=3 0.92\n",
      "for i=1,j=1,k=1,p=3,q=1 0.92\n",
      "for i=1,j=1,k=1,p=3,q=2 0.94\n",
      "for i=1,j=1,k=1,p=3,q=3 0.93\n",
      "for i=1,j=1,k=2,p=1,q=1 0.92\n",
      "for i=1,j=1,k=2,p=1,q=2 0.92\n",
      "for i=1,j=1,k=2,p=1,q=3 0.92\n",
      "for i=1,j=1,k=2,p=2,q=1 0.93\n",
      "for i=1,j=1,k=2,p=2,q=2 0.93\n",
      "for i=1,j=1,k=2,p=2,q=3 0.93\n",
      "for i=1,j=1,k=2,p=3,q=1 0.94\n",
      "for i=1,j=1,k=2,p=3,q=2 0.94\n",
      "for i=1,j=1,k=2,p=3,q=3 0.93\n",
      "for i=1,j=1,k=3,p=1,q=1 0.91\n",
      "for i=1,j=1,k=3,p=1,q=2 0.91\n",
      "for i=1,j=1,k=3,p=1,q=3 0.91\n",
      "for i=1,j=1,k=3,p=2,q=1 0.92\n",
      "for i=1,j=1,k=3,p=2,q=2 0.92\n",
      "for i=1,j=1,k=3,p=2,q=3 0.92\n",
      "for i=1,j=1,k=3,p=3,q=1 0.93\n",
      "for i=1,j=1,k=3,p=3,q=2 0.93\n",
      "for i=1,j=1,k=3,p=3,q=3 0.93\n",
      "for i=1,j=2,k=1,p=1,q=1 0.93\n",
      "for i=1,j=2,k=1,p=1,q=2 0.93\n",
      "for i=1,j=2,k=1,p=1,q=3 0.93\n",
      "for i=1,j=2,k=1,p=2,q=1 0.92\n",
      "for i=1,j=2,k=1,p=2,q=2 0.93\n",
      "for i=1,j=2,k=1,p=2,q=3 0.93\n",
      "for i=1,j=2,k=1,p=3,q=1 0.92\n",
      "for i=1,j=2,k=1,p=3,q=2 0.92\n",
      "for i=1,j=2,k=1,p=3,q=3 0.93\n",
      "for i=1,j=2,k=2,p=1,q=1 0.93\n",
      "for i=1,j=2,k=2,p=1,q=2 0.93\n",
      "for i=1,j=2,k=2,p=1,q=3 0.92\n",
      "for i=1,j=2,k=2,p=2,q=1 0.94\n",
      "for i=1,j=2,k=2,p=2,q=2 0.94\n",
      "for i=1,j=2,k=2,p=2,q=3 0.93\n",
      "for i=1,j=2,k=2,p=3,q=1 0.93\n",
      "for i=1,j=2,k=2,p=3,q=2 0.94\n",
      "for i=1,j=2,k=2,p=3,q=3 0.93\n",
      "for i=1,j=2,k=3,p=1,q=1 0.92\n",
      "for i=1,j=2,k=3,p=1,q=2 0.92\n",
      "for i=1,j=2,k=3,p=1,q=3 0.92\n",
      "for i=1,j=2,k=3,p=2,q=1 0.93\n",
      "for i=1,j=2,k=3,p=2,q=2 0.93\n",
      "for i=1,j=2,k=3,p=2,q=3 0.93\n",
      "for i=1,j=2,k=3,p=3,q=1 0.94\n",
      "for i=1,j=2,k=3,p=3,q=2 0.93\n",
      "for i=1,j=2,k=3,p=3,q=3 0.93\n",
      "for i=1,j=3,k=1,p=1,q=1 0.92\n",
      "for i=1,j=3,k=1,p=1,q=2 0.93\n",
      "for i=1,j=3,k=1,p=1,q=3 0.93\n",
      "for i=1,j=3,k=1,p=2,q=1 0.92\n",
      "for i=1,j=3,k=1,p=2,q=2 0.92\n",
      "for i=1,j=3,k=1,p=2,q=3 0.93\n",
      "for i=1,j=3,k=1,p=3,q=1 0.91\n",
      "for i=1,j=3,k=1,p=3,q=2 0.92\n",
      "for i=1,j=3,k=1,p=3,q=3 0.92\n",
      "for i=1,j=3,k=2,p=1,q=1 0.93\n",
      "for i=1,j=3,k=2,p=1,q=2 0.93\n",
      "for i=1,j=3,k=2,p=1,q=3 0.93\n",
      "for i=1,j=3,k=2,p=2,q=1 0.93\n",
      "for i=1,j=3,k=2,p=2,q=2 0.93\n",
      "for i=1,j=3,k=2,p=2,q=3 0.93\n",
      "for i=1,j=3,k=2,p=3,q=1 0.92\n",
      "for i=1,j=3,k=2,p=3,q=2 0.93\n",
      "for i=1,j=3,k=2,p=3,q=3 0.93\n",
      "for i=1,j=3,k=3,p=1,q=1 0.93\n",
      "for i=1,j=3,k=3,p=1,q=2 0.93\n",
      "for i=1,j=3,k=3,p=1,q=3 0.93\n",
      "for i=1,j=3,k=3,p=2,q=1 0.93\n",
      "for i=1,j=3,k=3,p=2,q=2 0.93\n",
      "for i=1,j=3,k=3,p=2,q=3 0.93\n",
      "for i=1,j=3,k=3,p=3,q=1 0.93\n",
      "for i=1,j=3,k=3,p=3,q=2 0.93\n",
      "for i=1,j=3,k=3,p=3,q=3 0.94\n",
      "for i=2,j=1,k=1,p=1,q=1 0.92\n",
      "for i=2,j=1,k=1,p=1,q=2 0.92\n",
      "for i=2,j=1,k=1,p=1,q=3 0.92\n",
      "for i=2,j=1,k=1,p=2,q=1 0.92\n",
      "for i=2,j=1,k=1,p=2,q=2 0.92\n",
      "for i=2,j=1,k=1,p=2,q=3 0.92\n",
      "for i=2,j=1,k=1,p=3,q=1 0.92\n",
      "for i=2,j=1,k=1,p=3,q=2 0.93\n",
      "for i=2,j=1,k=1,p=3,q=3 0.92\n",
      "for i=2,j=1,k=2,p=1,q=1 0.91\n",
      "for i=2,j=1,k=2,p=1,q=2 0.91\n",
      "for i=2,j=1,k=2,p=1,q=3 0.91\n",
      "for i=2,j=1,k=2,p=2,q=1 0.93\n",
      "for i=2,j=1,k=2,p=2,q=2 0.92\n",
      "for i=2,j=1,k=2,p=2,q=3 0.92\n",
      "for i=2,j=1,k=2,p=3,q=1 0.93\n",
      "for i=2,j=1,k=2,p=3,q=2 0.93\n",
      "for i=2,j=1,k=2,p=3,q=3 0.92\n",
      "for i=2,j=1,k=3,p=1,q=1 0.91\n",
      "for i=2,j=1,k=3,p=1,q=2 0.91\n",
      "for i=2,j=1,k=3,p=1,q=3 0.91\n",
      "for i=2,j=1,k=3,p=2,q=1 0.92\n",
      "for i=2,j=1,k=3,p=2,q=2 0.92\n",
      "for i=2,j=1,k=3,p=2,q=3 0.91\n",
      "for i=2,j=1,k=3,p=3,q=1 0.92\n",
      "for i=2,j=1,k=3,p=3,q=2 0.92\n",
      "for i=2,j=1,k=3,p=3,q=3 0.92\n",
      "for i=2,j=2,k=1,p=1,q=1 0.92\n",
      "for i=2,j=2,k=1,p=1,q=2 0.92\n",
      "for i=2,j=2,k=1,p=1,q=3 0.92\n",
      "for i=2,j=2,k=1,p=2,q=1 0.93\n",
      "for i=2,j=2,k=1,p=2,q=2 0.93\n",
      "for i=2,j=2,k=1,p=2,q=3 0.92\n",
      "for i=2,j=2,k=1,p=3,q=1 0.92\n",
      "for i=2,j=2,k=1,p=3,q=2 0.93\n",
      "for i=2,j=2,k=1,p=3,q=3 0.93\n",
      "for i=2,j=2,k=2,p=1,q=1 0.92\n",
      "for i=2,j=2,k=2,p=1,q=2 0.92\n",
      "for i=2,j=2,k=2,p=1,q=3 0.92\n",
      "for i=2,j=2,k=2,p=2,q=1 0.93\n",
      "for i=2,j=2,k=2,p=2,q=2 0.93\n",
      "for i=2,j=2,k=2,p=2,q=3 0.92\n",
      "for i=2,j=2,k=2,p=3,q=1 0.94\n",
      "for i=2,j=2,k=2,p=3,q=2 0.93\n",
      "for i=2,j=2,k=2,p=3,q=3 0.93\n",
      "for i=2,j=2,k=3,p=1,q=1 0.92\n",
      "for i=2,j=2,k=3,p=1,q=2 0.92\n",
      "for i=2,j=2,k=3,p=1,q=3 0.92\n",
      "for i=2,j=2,k=3,p=2,q=1 0.93\n",
      "for i=2,j=2,k=3,p=2,q=2 0.93\n",
      "for i=2,j=2,k=3,p=2,q=3 0.93\n",
      "for i=2,j=2,k=3,p=3,q=1 0.93\n",
      "for i=2,j=2,k=3,p=3,q=2 0.93\n",
      "for i=2,j=2,k=3,p=3,q=3 0.93\n",
      "for i=2,j=3,k=1,p=1,q=1 0.93\n",
      "for i=2,j=3,k=1,p=1,q=2 0.93\n",
      "for i=2,j=3,k=1,p=1,q=3 0.93\n",
      "for i=2,j=3,k=1,p=2,q=1 0.92\n",
      "for i=2,j=3,k=1,p=2,q=2 0.94\n",
      "for i=2,j=3,k=1,p=2,q=3 0.93\n",
      "for i=2,j=3,k=1,p=3,q=1 0.92\n",
      "for i=2,j=3,k=1,p=3,q=2 0.92\n",
      "for i=2,j=3,k=1,p=3,q=3 0.93\n",
      "for i=2,j=3,k=2,p=1,q=1 0.92\n",
      "for i=2,j=3,k=2,p=1,q=2 0.92\n",
      "for i=2,j=3,k=2,p=1,q=3 0.92\n",
      "for i=2,j=3,k=2,p=2,q=1 0.94\n",
      "for i=2,j=3,k=2,p=2,q=2 0.93\n",
      "for i=2,j=3,k=2,p=2,q=3 0.93\n",
      "for i=2,j=3,k=2,p=3,q=1 0.93\n",
      "for i=2,j=3,k=2,p=3,q=2 0.93\n",
      "for i=2,j=3,k=2,p=3,q=3 0.93\n",
      "for i=2,j=3,k=3,p=1,q=1 0.92\n",
      "for i=2,j=3,k=3,p=1,q=2 0.92\n",
      "for i=2,j=3,k=3,p=1,q=3 0.92\n",
      "for i=2,j=3,k=3,p=2,q=1 0.92\n",
      "for i=2,j=3,k=3,p=2,q=2 0.93\n",
      "for i=2,j=3,k=3,p=2,q=3 0.93\n",
      "for i=2,j=3,k=3,p=3,q=1 0.93\n",
      "for i=2,j=3,k=3,p=3,q=2 0.93\n",
      "for i=2,j=3,k=3,p=3,q=3 0.93\n",
      "for i=3,j=1,k=1,p=1,q=1 0.9\n",
      "for i=3,j=1,k=1,p=1,q=2 0.9\n",
      "for i=3,j=1,k=1,p=1,q=3 0.91\n",
      "for i=3,j=1,k=1,p=2,q=1 0.91\n",
      "for i=3,j=1,k=1,p=2,q=2 0.91\n",
      "for i=3,j=1,k=1,p=2,q=3 0.91\n",
      "for i=3,j=1,k=1,p=3,q=1 0.92\n",
      "for i=3,j=1,k=1,p=3,q=2 0.92\n",
      "for i=3,j=1,k=1,p=3,q=3 0.92\n",
      "for i=3,j=1,k=2,p=1,q=1 0.9\n",
      "for i=3,j=1,k=2,p=1,q=2 0.91\n",
      "for i=3,j=1,k=2,p=1,q=3 0.91\n",
      "for i=3,j=1,k=2,p=2,q=1 0.92\n",
      "for i=3,j=1,k=2,p=2,q=2 0.91\n",
      "for i=3,j=1,k=2,p=2,q=3 0.92\n",
      "for i=3,j=1,k=2,p=3,q=1 0.92\n",
      "for i=3,j=1,k=2,p=3,q=2 0.92\n",
      "for i=3,j=1,k=2,p=3,q=3 0.92\n",
      "for i=3,j=1,k=3,p=1,q=1 0.9\n",
      "for i=3,j=1,k=3,p=1,q=2 0.9\n",
      "for i=3,j=1,k=3,p=1,q=3 0.9\n",
      "for i=3,j=1,k=3,p=2,q=1 0.91\n",
      "for i=3,j=1,k=3,p=2,q=2 0.91\n",
      "for i=3,j=1,k=3,p=2,q=3 0.91\n",
      "for i=3,j=1,k=3,p=3,q=1 0.92\n",
      "for i=3,j=1,k=3,p=3,q=2 0.92\n",
      "for i=3,j=1,k=3,p=3,q=3 0.92\n",
      "for i=3,j=2,k=1,p=1,q=1 0.91\n",
      "for i=3,j=2,k=1,p=1,q=2 0.91\n",
      "for i=3,j=2,k=1,p=1,q=3 0.91\n",
      "for i=3,j=2,k=1,p=2,q=1 0.92\n",
      "for i=3,j=2,k=1,p=2,q=2 0.92\n",
      "for i=3,j=2,k=1,p=2,q=3 0.92\n",
      "for i=3,j=2,k=1,p=3,q=1 0.92\n",
      "for i=3,j=2,k=1,p=3,q=2 0.92\n",
      "for i=3,j=2,k=1,p=3,q=3 0.92\n",
      "for i=3,j=2,k=2,p=1,q=1 0.91\n",
      "for i=3,j=2,k=2,p=1,q=2 0.92\n",
      "for i=3,j=2,k=2,p=1,q=3 0.91\n",
      "for i=3,j=2,k=2,p=2,q=1 0.92\n",
      "for i=3,j=2,k=2,p=2,q=2 0.92\n",
      "for i=3,j=2,k=2,p=2,q=3 0.92\n",
      "for i=3,j=2,k=2,p=3,q=1 0.92\n",
      "for i=3,j=2,k=2,p=3,q=2 0.92\n",
      "for i=3,j=2,k=2,p=3,q=3 0.93\n",
      "for i=3,j=2,k=3,p=1,q=1 0.91\n",
      "for i=3,j=2,k=3,p=1,q=2 0.91\n",
      "for i=3,j=2,k=3,p=1,q=3 0.91\n",
      "for i=3,j=2,k=3,p=2,q=1 0.92\n",
      "for i=3,j=2,k=3,p=2,q=2 0.92\n",
      "for i=3,j=2,k=3,p=2,q=3 0.92\n",
      "for i=3,j=2,k=3,p=3,q=1 0.92\n",
      "for i=3,j=2,k=3,p=3,q=2 0.93\n",
      "for i=3,j=2,k=3,p=3,q=3 0.92\n",
      "for i=3,j=3,k=1,p=1,q=1 0.92\n",
      "for i=3,j=3,k=1,p=1,q=2 0.92\n",
      "for i=3,j=3,k=1,p=1,q=3 0.92\n",
      "for i=3,j=3,k=1,p=2,q=1 0.92\n",
      "for i=3,j=3,k=1,p=2,q=2 0.92\n",
      "for i=3,j=3,k=1,p=2,q=3 0.92\n",
      "for i=3,j=3,k=1,p=3,q=1 0.92\n",
      "for i=3,j=3,k=1,p=3,q=2 0.93\n",
      "for i=3,j=3,k=1,p=3,q=3 0.93\n",
      "for i=3,j=3,k=2,p=1,q=1 0.92\n",
      "for i=3,j=3,k=2,p=1,q=2 0.92\n",
      "for i=3,j=3,k=2,p=1,q=3 0.92\n",
      "for i=3,j=3,k=2,p=2,q=1 0.92\n",
      "for i=3,j=3,k=2,p=2,q=2 0.92\n",
      "for i=3,j=3,k=2,p=2,q=3 0.92\n",
      "for i=3,j=3,k=2,p=3,q=1 0.93\n",
      "for i=3,j=3,k=2,p=3,q=2 0.93\n",
      "for i=3,j=3,k=2,p=3,q=3 0.93\n",
      "for i=3,j=3,k=3,p=1,q=1 0.92\n",
      "for i=3,j=3,k=3,p=1,q=2 0.92\n",
      "for i=3,j=3,k=3,p=1,q=3 0.92\n",
      "for i=3,j=3,k=3,p=2,q=1 0.92\n",
      "for i=3,j=3,k=3,p=2,q=2 0.92\n",
      "for i=3,j=3,k=3,p=2,q=3 0.92\n",
      "for i=3,j=3,k=3,p=3,q=1 0.93\n",
      "for i=3,j=3,k=3,p=3,q=2 0.93\n",
      "for i=3,j=3,k=3,p=3,q=3 0.93\n"
     ]
    }
   ],
   "source": [
    "for i in range(1,4):\n",
    "    for j in range(1,4):\n",
    "        for k in range(1,4):\n",
    "            for p in range(1,4):\n",
    "                for q in range(1,4): \n",
    "                    vc2=VotingClassifier(estimators=estimators,voting='soft',weights=[i,j,k,p,q])\n",
    "                    x=cross_val_score(vc2,X,y,cv=10,scoring='accuracy')\n",
    "                    print(\"for i={},j={},k={},p={},q={}\".format(i,j,k,p,q),np.round(np.mean(x),2))"
   ]
  },
  {
   "cell_type": "markdown",
   "id": "ea06ee14-15d1-4ed0-8956-34a232411dc4",
   "metadata": {},
   "source": [
    "There is a slight improvemet now I am getting 94% accuracy"
   ]
  },
  {
   "cell_type": "code",
   "execution_count": null,
   "id": "8fc1c327-de7a-4866-8842-2b9396afbd8c",
   "metadata": {},
   "outputs": [],
   "source": []
  }
 ],
 "metadata": {
  "kernelspec": {
   "display_name": "Python 3 (ipykernel)",
   "language": "python",
   "name": "python3"
  },
  "language_info": {
   "codemirror_mode": {
    "name": "ipython",
    "version": 3
   },
   "file_extension": ".py",
   "mimetype": "text/x-python",
   "name": "python",
   "nbconvert_exporter": "python",
   "pygments_lexer": "ipython3",
   "version": "3.10.16"
  }
 },
 "nbformat": 4,
 "nbformat_minor": 5
}
